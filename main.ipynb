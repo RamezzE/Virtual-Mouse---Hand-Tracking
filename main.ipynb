{
 "cells": [
  {
   "cell_type": "code",
   "id": "initial_id",
   "metadata": {
    "collapsed": true,
    "ExecuteTime": {
     "end_time": "2024-05-09T15:14:23.631829Z",
     "start_time": "2024-05-09T15:14:23.625428Z"
    }
   },
   "source": [
    "import cv2\n",
    "from HandDetector import HandDetector"
   ],
   "outputs": [],
   "execution_count": 78
  },
  {
   "metadata": {
    "ExecuteTime": {
     "end_time": "2024-05-09T15:14:24.079219Z",
     "start_time": "2024-05-09T15:14:23.661331Z"
    }
   },
   "cell_type": "code",
   "source": "cap = cv2.VideoCapture(0)",
   "id": "895ac8f98c479293",
   "outputs": [],
   "execution_count": 79
  },
  {
   "metadata": {
    "ExecuteTime": {
     "end_time": "2024-05-09T15:14:24.108540Z",
     "start_time": "2024-05-09T15:14:24.082242Z"
    }
   },
   "cell_type": "code",
   "source": "HD = HandDetector()",
   "id": "6d222f5d30e00a97",
   "outputs": [],
   "execution_count": 80
  },
  {
   "metadata": {
    "ExecuteTime": {
     "end_time": "2024-05-09T15:14:33.605800Z",
     "start_time": "2024-05-09T15:14:24.116553Z"
    }
   },
   "cell_type": "code",
   "source": [
    "while True:\n",
    "    _, frame = cap.read()\n",
    "\n",
    "    frame = HD.findHands(frame, draw = True)\n",
    "    \n",
    "    cv2.imshow('Virtual Mouse', frame)\n",
    "\n",
    "    key = cv2.waitKey(1)\n",
    "\n",
    "    if key == ord('q'):\n",
    "        break  \n",
    "\n",
    "cap.release()\n",
    "cv2.destroyAllWindows()"
   ],
   "id": "ad3b890e0151bcf1",
   "outputs": [],
   "execution_count": 81
  }
 ],
 "metadata": {
  "kernelspec": {
   "display_name": "Python 3",
   "language": "python",
   "name": "python3"
  },
  "language_info": {
   "codemirror_mode": {
    "name": "ipython",
    "version": 2
   },
   "file_extension": ".py",
   "mimetype": "text/x-python",
   "name": "python",
   "nbconvert_exporter": "python",
   "pygments_lexer": "ipython2",
   "version": "2.7.6"
  }
 },
 "nbformat": 4,
 "nbformat_minor": 5
}
