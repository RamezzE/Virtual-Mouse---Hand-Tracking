{
 "cells": [
  {
   "cell_type": "code",
   "execution_count": 53,
   "metadata": {},
   "outputs": [],
   "source": [
    "import tensorflow as tf\n",
    "from tensorflow.keras import layers, models\n",
    "import pandas as pd"
   ]
  },
  {
   "cell_type": "code",
   "execution_count": 54,
   "metadata": {},
   "outputs": [],
   "source": [
    "import pandas as pd\n",
    "\n",
    "# List of CSV file paths\n",
    "file_paths = [\n",
    "    'Collected Dataset/idle.csv',\n",
    "    'Collected Dataset/idle2.csv',\n",
    "    'Collected Dataset/idle3.csv',\n",
    "    'Collected Dataset/left_click.csv',\n",
    "    'Collected Dataset/right_click.csv',\n",
    "    'Collected Dataset/move_mouse.csv',\n",
    "    'Collected Dataset/press_and_hold_left_click.csv',\n",
    "    'Collected Dataset/scroll.csv'\n",
    "]\n",
    "\n",
    "# Read each CSV file into a list of DataFrames\n",
    "csv_data = [pd.read_csv(file) for file in file_paths]\n",
    "\n",
    "# Concatenate all DataFrames into a single DataFrame\n",
    "data = pd.concat(csv_data, ignore_index=True)\n",
    "\n",
    "# Shuffle the DataFrame\n",
    "data = data.sample(frac=1).reset_index(drop=True)"
   ]
  },
  {
   "cell_type": "code",
   "execution_count": 55,
   "metadata": {},
   "outputs": [
    {
     "name": "stderr",
     "output_type": "stream",
     "text": [
      "C:\\Users\\ramez\\AppData\\Local\\Temp\\ipykernel_6976\\3288166962.py:7: FutureWarning: Downcasting behavior in `replace` is deprecated and will be removed in a future version. To retain the old behavior, explicitly call `result.infer_objects(copy=False)`. To opt-in to the future behavior, set `pd.set_option('future.no_silent_downcasting', True)`\n",
      "  y.replace(string_to_numeric, inplace=True)\n"
     ]
    },
    {
     "data": {
      "text/html": [
       "<div>\n",
       "<style scoped>\n",
       "    .dataframe tbody tr th:only-of-type {\n",
       "        vertical-align: middle;\n",
       "    }\n",
       "\n",
       "    .dataframe tbody tr th {\n",
       "        vertical-align: top;\n",
       "    }\n",
       "\n",
       "    .dataframe thead th {\n",
       "        text-align: right;\n",
       "    }\n",
       "</style>\n",
       "<table border=\"1\" class=\"dataframe\">\n",
       "  <thead>\n",
       "    <tr style=\"text-align: right;\">\n",
       "      <th></th>\n",
       "      <th>0</th>\n",
       "      <th>1</th>\n",
       "      <th>2</th>\n",
       "      <th>3</th>\n",
       "      <th>4</th>\n",
       "      <th>5</th>\n",
       "      <th>6</th>\n",
       "      <th>7</th>\n",
       "      <th>8</th>\n",
       "      <th>9</th>\n",
       "      <th>...</th>\n",
       "      <th>32</th>\n",
       "      <th>33</th>\n",
       "      <th>34</th>\n",
       "      <th>35</th>\n",
       "      <th>36</th>\n",
       "      <th>37</th>\n",
       "      <th>38</th>\n",
       "      <th>39</th>\n",
       "      <th>40</th>\n",
       "      <th>41</th>\n",
       "    </tr>\n",
       "  </thead>\n",
       "  <tbody>\n",
       "    <tr>\n",
       "      <th>5124</th>\n",
       "      <td>0.600001</td>\n",
       "      <td>1.000000</td>\n",
       "      <td>0.796694</td>\n",
       "      <td>0.929101</td>\n",
       "      <td>0.841617</td>\n",
       "      <td>0.795034</td>\n",
       "      <td>0.697311</td>\n",
       "      <td>0.693244</td>\n",
       "      <td>0.503157</td>\n",
       "      <td>0.636832</td>\n",
       "      <td>...</td>\n",
       "      <td>0.238819</td>\n",
       "      <td>0.337298</td>\n",
       "      <td>0.274412</td>\n",
       "      <td>0.588804</td>\n",
       "      <td>0.163099</td>\n",
       "      <td>0.447969</td>\n",
       "      <td>0.078143</td>\n",
       "      <td>0.375736</td>\n",
       "      <td>0.000000</td>\n",
       "      <td>0.309346</td>\n",
       "    </tr>\n",
       "    <tr>\n",
       "      <th>12962</th>\n",
       "      <td>0.674071</td>\n",
       "      <td>1.000000</td>\n",
       "      <td>0.997710</td>\n",
       "      <td>0.843076</td>\n",
       "      <td>1.000000</td>\n",
       "      <td>0.637070</td>\n",
       "      <td>0.593688</td>\n",
       "      <td>0.523879</td>\n",
       "      <td>0.215825</td>\n",
       "      <td>0.492232</td>\n",
       "      <td>...</td>\n",
       "      <td>0.520585</td>\n",
       "      <td>0.640285</td>\n",
       "      <td>0.011533</td>\n",
       "      <td>0.648945</td>\n",
       "      <td>0.000000</td>\n",
       "      <td>0.510048</td>\n",
       "      <td>0.211194</td>\n",
       "      <td>0.582654</td>\n",
       "      <td>0.329668</td>\n",
       "      <td>0.667822</td>\n",
       "    </tr>\n",
       "    <tr>\n",
       "      <th>7162</th>\n",
       "      <td>1.000000</td>\n",
       "      <td>0.891962</td>\n",
       "      <td>0.875058</td>\n",
       "      <td>0.473753</td>\n",
       "      <td>0.622677</td>\n",
       "      <td>0.132183</td>\n",
       "      <td>0.314930</td>\n",
       "      <td>0.000000</td>\n",
       "      <td>0.046187</td>\n",
       "      <td>0.071774</td>\n",
       "      <td>...</td>\n",
       "      <td>0.504647</td>\n",
       "      <td>0.719205</td>\n",
       "      <td>0.215953</td>\n",
       "      <td>1.000000</td>\n",
       "      <td>0.000000</td>\n",
       "      <td>0.838364</td>\n",
       "      <td>0.213155</td>\n",
       "      <td>0.814916</td>\n",
       "      <td>0.361493</td>\n",
       "      <td>0.850887</td>\n",
       "    </tr>\n",
       "  </tbody>\n",
       "</table>\n",
       "<p>3 rows × 42 columns</p>\n",
       "</div>"
      ],
      "text/plain": [
       "              0         1         2         3         4         5         6  \\\n",
       "5124   0.600001  1.000000  0.796694  0.929101  0.841617  0.795034  0.697311   \n",
       "12962  0.674071  1.000000  0.997710  0.843076  1.000000  0.637070  0.593688   \n",
       "7162   1.000000  0.891962  0.875058  0.473753  0.622677  0.132183  0.314930   \n",
       "\n",
       "              7         8         9  ...        32        33        34  \\\n",
       "5124   0.693244  0.503157  0.636832  ...  0.238819  0.337298  0.274412   \n",
       "12962  0.523879  0.215825  0.492232  ...  0.520585  0.640285  0.011533   \n",
       "7162   0.000000  0.046187  0.071774  ...  0.504647  0.719205  0.215953   \n",
       "\n",
       "             35        36        37        38        39        40        41  \n",
       "5124   0.588804  0.163099  0.447969  0.078143  0.375736  0.000000  0.309346  \n",
       "12962  0.648945  0.000000  0.510048  0.211194  0.582654  0.329668  0.667822  \n",
       "7162   1.000000  0.000000  0.838364  0.213155  0.814916  0.361493  0.850887  \n",
       "\n",
       "[3 rows x 42 columns]"
      ]
     },
     "execution_count": 55,
     "metadata": {},
     "output_type": "execute_result"
    }
   ],
   "source": [
    "string_to_numeric = {'idle': 0, 'left_click': 1, 'right_click' : 2, 'move_mouse': 3, 'press_and_hold_left_click': 4, 'scroll': 5}\n",
    "# data = (data - data.min()) / (data.max() - data.min())\n",
    "\n",
    "X = data.iloc[:, :-1]\n",
    "y = data.iloc[:, -1]\n",
    "\n",
    "y.replace(string_to_numeric, inplace=True)\n",
    "\n",
    "X.sample(3)"
   ]
  },
  {
   "cell_type": "code",
   "execution_count": 56,
   "metadata": {},
   "outputs": [
    {
     "data": {
      "text/plain": [
       "6"
      ]
     },
     "execution_count": 56,
     "metadata": {},
     "output_type": "execute_result"
    }
   ],
   "source": [
    "num_states = len(y.unique())\n",
    "\n",
    "X.shape, y.shape\n",
    "num_states"
   ]
  },
  {
   "cell_type": "code",
   "execution_count": 57,
   "metadata": {},
   "outputs": [
    {
     "name": "stdout",
     "output_type": "stream",
     "text": [
      "Training data shape: (12880, 42)\n",
      "Testing data shape: (1610, 42)\n",
      "Validation data shape: (1610, 42)\n"
     ]
    }
   ],
   "source": [
    "from sklearn.model_selection import train_test_split\n",
    "\n",
    "# Assuming you have your data stored in a numpy array called 'landmarks_data' and labels in 'labels'\n",
    "# landmarks_data.shape = (num_samples, num_landmarks, num_dimensions)\n",
    "# labels.shape = (num_samples,)\n",
    "\n",
    "# First, split your data into training and testing/validation sets\n",
    "X_train, X_test_val, y_train, y_test_val = train_test_split(X, y, test_size=0.2, random_state=42)\n",
    "\n",
    "# Then, split the testing/validation set into separate testing and validation sets\n",
    "X_test, X_val, y_test, y_val = train_test_split(X_test_val, y_test_val, test_size=0.5, random_state=42)\n",
    "\n",
    "# Print the shapes of the resulting datasets\n",
    "print(\"Training data shape:\", X_train.shape)\n",
    "print(\"Testing data shape:\", X_test.shape)\n",
    "print(\"Validation data shape:\", X_val.shape)\n",
    "\n",
    "# You can then use X_train, y_train for training, X_test, y_test for testing, and X_val, y_val for validation\n"
   ]
  },
  {
   "cell_type": "code",
   "execution_count": 58,
   "metadata": {},
   "outputs": [],
   "source": [
    "# Define your TensorFlow model\n",
    "model = models.Sequential([\n",
    "    layers.Input(shape=(42,)),  # Input layer specifying the input shape\n",
    "    tf.keras.layers.Dense(64, activation= 'relu'), \n",
    "    tf.keras.layers.Dense(128, activation= 'relu'), \n",
    "    tf.keras.layers.Dense(num_states, activation= 'softmax')\n",
    "])\n",
    "                                \n",
    "# Compile the model\n",
    "model.compile(optimizer='adam',\n",
    "              loss='sparse_categorical_crossentropy',\n",
    "              metrics=['accuracy'])"
   ]
  },
  {
   "cell_type": "code",
   "execution_count": 59,
   "metadata": {},
   "outputs": [
    {
     "name": "stdout",
     "output_type": "stream",
     "text": [
      "Epoch 1/10\n",
      "\u001b[1m403/403\u001b[0m \u001b[32m━━━━━━━━━━━━━━━━━━━━\u001b[0m\u001b[37m\u001b[0m \u001b[1m5s\u001b[0m 3ms/step - accuracy: 0.6175 - loss: 1.0769 - val_accuracy: 0.9174 - val_loss: 0.3261\n",
      "Epoch 2/10\n",
      "\u001b[1m403/403\u001b[0m \u001b[32m━━━━━━━━━━━━━━━━━━━━\u001b[0m\u001b[37m\u001b[0m \u001b[1m1s\u001b[0m 3ms/step - accuracy: 0.9362 - loss: 0.2420 - val_accuracy: 0.9404 - val_loss: 0.2393\n",
      "Epoch 3/10\n",
      "\u001b[1m403/403\u001b[0m \u001b[32m━━━━━━━━━━━━━━━━━━━━\u001b[0m\u001b[37m\u001b[0m \u001b[1m1s\u001b[0m 3ms/step - accuracy: 0.9530 - loss: 0.1724 - val_accuracy: 0.9491 - val_loss: 0.1940\n",
      "Epoch 4/10\n",
      "\u001b[1m403/403\u001b[0m \u001b[32m━━━━━━━━━━━━━━━━━━━━\u001b[0m\u001b[37m\u001b[0m \u001b[1m2s\u001b[0m 5ms/step - accuracy: 0.9641 - loss: 0.1438 - val_accuracy: 0.9559 - val_loss: 0.1671\n",
      "Epoch 5/10\n",
      "\u001b[1m403/403\u001b[0m \u001b[32m━━━━━━━━━━━━━━━━━━━━\u001b[0m\u001b[37m\u001b[0m \u001b[1m2s\u001b[0m 4ms/step - accuracy: 0.9711 - loss: 0.1164 - val_accuracy: 0.9559 - val_loss: 0.1582\n",
      "Epoch 6/10\n",
      "\u001b[1m403/403\u001b[0m \u001b[32m━━━━━━━━━━━━━━━━━━━━\u001b[0m\u001b[37m\u001b[0m \u001b[1m1s\u001b[0m 3ms/step - accuracy: 0.9723 - loss: 0.1082 - val_accuracy: 0.9565 - val_loss: 0.1572\n",
      "Epoch 7/10\n",
      "\u001b[1m403/403\u001b[0m \u001b[32m━━━━━━━━━━━━━━━━━━━━\u001b[0m\u001b[37m\u001b[0m \u001b[1m1s\u001b[0m 3ms/step - accuracy: 0.9728 - loss: 0.1049 - val_accuracy: 0.9596 - val_loss: 0.1521\n",
      "Epoch 8/10\n",
      "\u001b[1m403/403\u001b[0m \u001b[32m━━━━━━━━━━━━━━━━━━━━\u001b[0m\u001b[37m\u001b[0m \u001b[1m1s\u001b[0m 2ms/step - accuracy: 0.9775 - loss: 0.0893 - val_accuracy: 0.9621 - val_loss: 0.1518\n",
      "Epoch 9/10\n",
      "\u001b[1m403/403\u001b[0m \u001b[32m━━━━━━━━━━━━━━━━━━━━\u001b[0m\u001b[37m\u001b[0m \u001b[1m1s\u001b[0m 3ms/step - accuracy: 0.9759 - loss: 0.0923 - val_accuracy: 0.9677 - val_loss: 0.1415\n",
      "Epoch 10/10\n",
      "\u001b[1m403/403\u001b[0m \u001b[32m━━━━━━━━━━━━━━━━━━━━\u001b[0m\u001b[37m\u001b[0m \u001b[1m1s\u001b[0m 3ms/step - accuracy: 0.9808 - loss: 0.0762 - val_accuracy: 0.9683 - val_loss: 0.1422\n"
     ]
    },
    {
     "data": {
      "text/plain": [
       "<keras.src.callbacks.history.History at 0x2131df6cc10>"
      ]
     },
     "execution_count": 59,
     "metadata": {},
     "output_type": "execute_result"
    }
   ],
   "source": [
    "# Train the model\n",
    "model.fit(X_train, y_train, epochs = 10, validation_data=(X_val, y_val))"
   ]
  },
  {
   "cell_type": "code",
   "execution_count": 60,
   "metadata": {},
   "outputs": [
    {
     "name": "stdout",
     "output_type": "stream",
     "text": [
      "\u001b[1m51/51\u001b[0m \u001b[32m━━━━━━━━━━━━━━━━━━━━\u001b[0m\u001b[37m\u001b[0m \u001b[1m0s\u001b[0m 5ms/step - accuracy: 0.9736 - loss: 0.1035\n",
      "Test Loss: 0.09245144575834274\n",
      "Test Accuracy: 0.9757763743400574\n"
     ]
    }
   ],
   "source": [
    "# Evaluate the model on the test set\n",
    "test_loss, test_accuracy = model.evaluate(X_test, y_test)\n",
    "print(\"Test Loss:\", test_loss)\n",
    "print(\"Test Accuracy:\", test_accuracy)"
   ]
  },
  {
   "cell_type": "code",
   "execution_count": 61,
   "metadata": {},
   "outputs": [],
   "source": [
    "# output the model\n",
    "model.save('../model/model2.keras')"
   ]
  }
 ],
 "metadata": {
  "kernelspec": {
   "display_name": "Virtual Mouse - Hand Tracking",
   "language": "python",
   "name": "python3"
  },
  "language_info": {
   "codemirror_mode": {
    "name": "ipython",
    "version": 3
   },
   "file_extension": ".py",
   "mimetype": "text/x-python",
   "name": "python",
   "nbconvert_exporter": "python",
   "pygments_lexer": "ipython3",
   "version": "3.11.3"
  }
 },
 "nbformat": 4,
 "nbformat_minor": 2
}
