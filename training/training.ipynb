{
 "cells": [
  {
   "cell_type": "code",
   "execution_count": 12,
   "metadata": {},
   "outputs": [],
   "source": [
    "import tensorflow as tf\n",
    "from tensorflow.keras import layers, models\n",
    "import pandas as pd"
   ]
  },
  {
   "cell_type": "code",
   "execution_count": 13,
   "metadata": {},
   "outputs": [],
   "source": [
    "import pandas as pd\n",
    "\n",
    "# List of CSV file paths\n",
    "file_paths = [\n",
    "    'Collected Dataset/fist_closed.csv',\n",
    "    'Collected Dataset/hand_open.csv',\n",
    "    'Collected Dataset/left_click.csv',\n",
    "    'Collected Dataset/move_mouse.csv',\n",
    "    'Collected Dataset/move_mouse_2.csv',\n",
    "    'Collected Dataset/pinch_action.csv',\n",
    "    'Collected Dataset/press_and_hold_left.csv',\n",
    "    'Collected Dataset/press_and_hold_left_2.csv',\n",
    "    'Collected Dataset/right_click.csv',\n",
    "    'Collected Dataset/double_click.csv',\n",
    "    'Collected Dataset/scroll.csv'\n",
    "]\n",
    "\n",
    "# Read each CSV file into a list of DataFrames\n",
    "csv_data = [pd.read_csv(file) for file in file_paths]\n",
    "\n",
    "# Concatenate all DataFrames into a single DataFrame\n",
    "data = pd.concat(csv_data, ignore_index=True)\n",
    "\n",
    "# Shuffle the DataFrame\n",
    "data = data.sample(frac=1).reset_index(drop=True)"
   ]
  },
  {
   "cell_type": "code",
   "execution_count": 14,
   "metadata": {},
   "outputs": [
    {
     "name": "stderr",
     "output_type": "stream",
     "text": [
      "C:\\Users\\ramez\\AppData\\Local\\Temp\\ipykernel_24700\\1359510969.py:6: FutureWarning: Downcasting behavior in `replace` is deprecated and will be removed in a future version. To retain the old behavior, explicitly call `result.infer_objects(copy=False)`. To opt-in to the future behavior, set `pd.set_option('future.no_silent_downcasting', True)`\n",
      "  y.replace(string_to_numeric, inplace=True)\n"
     ]
    },
    {
     "data": {
      "text/html": [
       "<div>\n",
       "<style scoped>\n",
       "    .dataframe tbody tr th:only-of-type {\n",
       "        vertical-align: middle;\n",
       "    }\n",
       "\n",
       "    .dataframe tbody tr th {\n",
       "        vertical-align: top;\n",
       "    }\n",
       "\n",
       "    .dataframe thead th {\n",
       "        text-align: right;\n",
       "    }\n",
       "</style>\n",
       "<table border=\"1\" class=\"dataframe\">\n",
       "  <thead>\n",
       "    <tr style=\"text-align: right;\">\n",
       "      <th></th>\n",
       "      <th>0</th>\n",
       "      <th>1</th>\n",
       "      <th>2</th>\n",
       "      <th>3</th>\n",
       "      <th>4</th>\n",
       "      <th>5</th>\n",
       "      <th>6</th>\n",
       "      <th>7</th>\n",
       "      <th>8</th>\n",
       "      <th>9</th>\n",
       "      <th>...</th>\n",
       "      <th>53</th>\n",
       "      <th>54</th>\n",
       "      <th>55</th>\n",
       "      <th>56</th>\n",
       "      <th>57</th>\n",
       "      <th>58</th>\n",
       "      <th>59</th>\n",
       "      <th>60</th>\n",
       "      <th>61</th>\n",
       "      <th>62</th>\n",
       "    </tr>\n",
       "  </thead>\n",
       "  <tbody>\n",
       "    <tr>\n",
       "      <th>560</th>\n",
       "      <td>1.000000</td>\n",
       "      <td>0.0</td>\n",
       "      <td>0.926795</td>\n",
       "      <td>0.913269</td>\n",
       "      <td>0.286309</td>\n",
       "      <td>1.000000</td>\n",
       "      <td>0.733635</td>\n",
       "      <td>0.586815</td>\n",
       "      <td>0.875776</td>\n",
       "      <td>0.676401</td>\n",
       "      <td>...</td>\n",
       "      <td>0.088141</td>\n",
       "      <td>0.047374</td>\n",
       "      <td>0.070299</td>\n",
       "      <td>0.000000</td>\n",
       "      <td>0.179888</td>\n",
       "      <td>0.031063</td>\n",
       "      <td>0.151181</td>\n",
       "      <td>0.337541</td>\n",
       "      <td>0.041447</td>\n",
       "      <td>0.275965</td>\n",
       "    </tr>\n",
       "    <tr>\n",
       "      <th>48643</th>\n",
       "      <td>0.273299</td>\n",
       "      <td>1.0</td>\n",
       "      <td>1.000000</td>\n",
       "      <td>0.078540</td>\n",
       "      <td>0.951744</td>\n",
       "      <td>0.705572</td>\n",
       "      <td>0.000000</td>\n",
       "      <td>0.856786</td>\n",
       "      <td>0.479419</td>\n",
       "      <td>0.258486</td>\n",
       "      <td>...</td>\n",
       "      <td>0.576177</td>\n",
       "      <td>1.000000</td>\n",
       "      <td>0.870755</td>\n",
       "      <td>0.373798</td>\n",
       "      <td>0.852392</td>\n",
       "      <td>0.968467</td>\n",
       "      <td>0.381812</td>\n",
       "      <td>0.739051</td>\n",
       "      <td>0.925014</td>\n",
       "      <td>0.420969</td>\n",
       "    </tr>\n",
       "    <tr>\n",
       "      <th>24946</th>\n",
       "      <td>1.000000</td>\n",
       "      <td>1.0</td>\n",
       "      <td>1.000000</td>\n",
       "      <td>0.713179</td>\n",
       "      <td>0.996111</td>\n",
       "      <td>0.686413</td>\n",
       "      <td>0.432929</td>\n",
       "      <td>0.885976</td>\n",
       "      <td>0.505472</td>\n",
       "      <td>0.195773</td>\n",
       "      <td>...</td>\n",
       "      <td>0.711936</td>\n",
       "      <td>0.827986</td>\n",
       "      <td>0.295588</td>\n",
       "      <td>0.549673</td>\n",
       "      <td>0.835947</td>\n",
       "      <td>0.172523</td>\n",
       "      <td>0.514956</td>\n",
       "      <td>0.831967</td>\n",
       "      <td>0.069795</td>\n",
       "      <td>0.530067</td>\n",
       "    </tr>\n",
       "  </tbody>\n",
       "</table>\n",
       "<p>3 rows × 63 columns</p>\n",
       "</div>"
      ],
      "text/plain": [
       "              0    1         2         3         4         5         6  \\\n",
       "560    1.000000  0.0  0.926795  0.913269  0.286309  1.000000  0.733635   \n",
       "48643  0.273299  1.0  1.000000  0.078540  0.951744  0.705572  0.000000   \n",
       "24946  1.000000  1.0  1.000000  0.713179  0.996111  0.686413  0.432929   \n",
       "\n",
       "              7         8         9  ...        53        54        55  \\\n",
       "560    0.586815  0.875776  0.676401  ...  0.088141  0.047374  0.070299   \n",
       "48643  0.856786  0.479419  0.258486  ...  0.576177  1.000000  0.870755   \n",
       "24946  0.885976  0.505472  0.195773  ...  0.711936  0.827986  0.295588   \n",
       "\n",
       "             56        57        58        59        60        61        62  \n",
       "560    0.000000  0.179888  0.031063  0.151181  0.337541  0.041447  0.275965  \n",
       "48643  0.373798  0.852392  0.968467  0.381812  0.739051  0.925014  0.420969  \n",
       "24946  0.549673  0.835947  0.172523  0.514956  0.831967  0.069795  0.530067  \n",
       "\n",
       "[3 rows x 63 columns]"
      ]
     },
     "execution_count": 14,
     "metadata": {},
     "output_type": "execute_result"
    }
   ],
   "source": [
    "string_to_numeric = {'fist_closed': 0, 'hand_open': 0, 'left_click': 1, 'right_click' : 2, 'move_mouse': 3, 'move_mouse_2' : 3, 'press_and_hold_left': 4, 'press_and_hold_left_2' : 4, 'pinch_action' : 5, 'scroll': 6 , 'double_click' : 7}\n",
    "\n",
    "X = data.iloc[:, :-1]\n",
    "y = data.iloc[:, -1]\n",
    "\n",
    "y.replace(string_to_numeric, inplace=True)\n",
    "\n",
    "X.sample(3)"
   ]
  },
  {
   "cell_type": "code",
   "execution_count": 15,
   "metadata": {},
   "outputs": [
    {
     "data": {
      "text/plain": [
       "8"
      ]
     },
     "execution_count": 15,
     "metadata": {},
     "output_type": "execute_result"
    }
   ],
   "source": [
    "num_states = len(y.unique())\n",
    "\n",
    "X.shape, y.shape\n",
    "num_states"
   ]
  },
  {
   "cell_type": "code",
   "execution_count": 16,
   "metadata": {},
   "outputs": [
    {
     "name": "stdout",
     "output_type": "stream",
     "text": [
      "Training data shape: (42118, 63)\n",
      "Testing data shape: (5265, 63)\n",
      "Validation data shape: (5265, 63)\n"
     ]
    }
   ],
   "source": [
    "from sklearn.model_selection import train_test_split\n",
    "\n",
    "# Assuming you have your data stored in a numpy array called 'landmarks_data' and labels in 'labels'\n",
    "# landmarks_data.shape = (num_samples, num_landmarks, num_dimensions)\n",
    "# labels.shape = (num_samples,)\n",
    "\n",
    "# First, split your data into training and testing/validation sets\n",
    "X_train, X_test_val, y_train, y_test_val = train_test_split(X, y, test_size=0.2, random_state=42)\n",
    "\n",
    "# Then, split the testing/validation set into separate testing and validation sets\n",
    "X_test, X_val, y_test, y_val = train_test_split(X_test_val, y_test_val, test_size=0.5, random_state=42)\n",
    "\n",
    "# Print the shapes of the resulting datasets\n",
    "print(\"Training data shape:\", X_train.shape)\n",
    "print(\"Testing data shape:\", X_test.shape)\n",
    "print(\"Validation data shape:\", X_val.shape)\n",
    "\n",
    "# You can then use X_train, y_train for training, X_test, y_test for testing, and X_val, y_val for validation"
   ]
  },
  {
   "cell_type": "code",
   "execution_count": 17,
   "metadata": {},
   "outputs": [],
   "source": [
    "# Define your TensorFlow model\n",
    "model = models.Sequential([\n",
    "    layers.Input(shape=(63,)),  # Input layer specifying the input shape\n",
    "    tf.keras.layers.Dense(64, activation= 'relu'), \n",
    "    tf.keras.layers.Dense(128, activation= 'relu'), \n",
    "    tf.keras.layers.Dense(num_states, activation= 'softmax')\n",
    "])\n",
    "                                \n",
    "# Compile the model\n",
    "model.compile(optimizer='adam',\n",
    "              loss='sparse_categorical_crossentropy',\n",
    "              metrics=['accuracy'])"
   ]
  },
  {
   "cell_type": "code",
   "execution_count": 18,
   "metadata": {},
   "outputs": [
    {
     "name": "stdout",
     "output_type": "stream",
     "text": [
      "Epoch 1/10\n",
      "\u001b[1m1317/1317\u001b[0m \u001b[32m━━━━━━━━━━━━━━━━━━━━\u001b[0m\u001b[37m\u001b[0m \u001b[1m6s\u001b[0m 3ms/step - accuracy: 0.6931 - loss: 0.9684 - val_accuracy: 0.9451 - val_loss: 0.1996\n",
      "Epoch 2/10\n",
      "\u001b[1m1317/1317\u001b[0m \u001b[32m━━━━━━━━━━━━━━━━━━━━\u001b[0m\u001b[37m\u001b[0m \u001b[1m4s\u001b[0m 3ms/step - accuracy: 0.9538 - loss: 0.1703 - val_accuracy: 0.9660 - val_loss: 0.1360\n",
      "Epoch 3/10\n",
      "\u001b[1m1317/1317\u001b[0m \u001b[32m━━━━━━━━━━━━━━━━━━━━\u001b[0m\u001b[37m\u001b[0m \u001b[1m4s\u001b[0m 3ms/step - accuracy: 0.9707 - loss: 0.1217 - val_accuracy: 0.9662 - val_loss: 0.1273\n",
      "Epoch 4/10\n",
      "\u001b[1m1317/1317\u001b[0m \u001b[32m━━━━━━━━━━━━━━━━━━━━\u001b[0m\u001b[37m\u001b[0m \u001b[1m3s\u001b[0m 2ms/step - accuracy: 0.9768 - loss: 0.0967 - val_accuracy: 0.9776 - val_loss: 0.0895\n",
      "Epoch 5/10\n",
      "\u001b[1m1317/1317\u001b[0m \u001b[32m━━━━━━━━━━━━━━━━━━━━\u001b[0m\u001b[37m\u001b[0m \u001b[1m3s\u001b[0m 2ms/step - accuracy: 0.9789 - loss: 0.0851 - val_accuracy: 0.9783 - val_loss: 0.0838\n",
      "Epoch 6/10\n",
      "\u001b[1m1317/1317\u001b[0m \u001b[32m━━━━━━━━━━━━━━━━━━━━\u001b[0m\u001b[37m\u001b[0m \u001b[1m3s\u001b[0m 2ms/step - accuracy: 0.9799 - loss: 0.0794 - val_accuracy: 0.9787 - val_loss: 0.0829\n",
      "Epoch 7/10\n",
      "\u001b[1m1317/1317\u001b[0m \u001b[32m━━━━━━━━━━━━━━━━━━━━\u001b[0m\u001b[37m\u001b[0m \u001b[1m3s\u001b[0m 2ms/step - accuracy: 0.9834 - loss: 0.0667 - val_accuracy: 0.9808 - val_loss: 0.0735\n",
      "Epoch 8/10\n",
      "\u001b[1m1317/1317\u001b[0m \u001b[32m━━━━━━━━━━━━━━━━━━━━\u001b[0m\u001b[37m\u001b[0m \u001b[1m3s\u001b[0m 2ms/step - accuracy: 0.9841 - loss: 0.0624 - val_accuracy: 0.9840 - val_loss: 0.0645\n",
      "Epoch 9/10\n",
      "\u001b[1m1317/1317\u001b[0m \u001b[32m━━━━━━━━━━━━━━━━━━━━\u001b[0m\u001b[37m\u001b[0m \u001b[1m3s\u001b[0m 2ms/step - accuracy: 0.9836 - loss: 0.0591 - val_accuracy: 0.9814 - val_loss: 0.0724\n",
      "Epoch 10/10\n",
      "\u001b[1m1317/1317\u001b[0m \u001b[32m━━━━━━━━━━━━━━━━━━━━\u001b[0m\u001b[37m\u001b[0m \u001b[1m3s\u001b[0m 2ms/step - accuracy: 0.9857 - loss: 0.0527 - val_accuracy: 0.9858 - val_loss: 0.0610\n"
     ]
    },
    {
     "data": {
      "text/plain": [
       "<keras.src.callbacks.history.History at 0x27951135090>"
      ]
     },
     "execution_count": 18,
     "metadata": {},
     "output_type": "execute_result"
    }
   ],
   "source": [
    "# Train the model\n",
    "model.fit(X_train, y_train, epochs = 10, validation_data=(X_val, y_val))"
   ]
  },
  {
   "cell_type": "code",
   "execution_count": 19,
   "metadata": {},
   "outputs": [
    {
     "name": "stdout",
     "output_type": "stream",
     "text": [
      "\u001b[1m165/165\u001b[0m \u001b[32m━━━━━━━━━━━━━━━━━━━━\u001b[0m\u001b[37m\u001b[0m \u001b[1m0s\u001b[0m 2ms/step - accuracy: 0.9845 - loss: 0.0582\n",
      "Test Loss: 0.06610069423913956\n",
      "Test Accuracy: 0.9842355251312256\n"
     ]
    }
   ],
   "source": [
    "# Evaluate the model on the test set\n",
    "test_loss, test_accuracy = model.evaluate(X_test, y_test)\n",
    "print(\"Test Loss:\", test_loss)\n",
    "print(\"Test Accuracy:\", test_accuracy)"
   ]
  },
  {
   "cell_type": "code",
   "execution_count": 20,
   "metadata": {},
   "outputs": [],
   "source": [
    "# output the model\n",
    "model.save('../model/model2.keras')"
   ]
  }
 ],
 "metadata": {
  "kernelspec": {
   "display_name": "Virtual Mouse - Hand Tracking",
   "language": "python",
   "name": "python3"
  },
  "language_info": {
   "codemirror_mode": {
    "name": "ipython",
    "version": 3
   },
   "file_extension": ".py",
   "mimetype": "text/x-python",
   "name": "python",
   "nbconvert_exporter": "python",
   "pygments_lexer": "ipython3",
   "version": "3.11.3"
  }
 },
 "nbformat": 4,
 "nbformat_minor": 2
}
